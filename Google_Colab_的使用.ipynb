{
  "nbformat": 4,
  "nbformat_minor": 0,
  "metadata": {
    "colab": {
      "name": "Google Colab 的使用.ipynb",
      "provenance": [],
      "collapsed_sections": [
        "nsAlOXH5Gj0-"
      ],
      "authorship_tag": "ABX9TyNK0fRRJSaiBWpty3NmUksM",
      "include_colab_link": true
    },
    "kernelspec": {
      "name": "python3",
      "display_name": "Python 3"
    },
    "language_info": {
      "name": "python"
    },
    "accelerator": "GPU"
  },
  "cells": [
    {
      "cell_type": "markdown",
      "metadata": {
        "id": "view-in-github",
        "colab_type": "text"
      },
      "source": [
        "<a href=\"https://colab.research.google.com/github/MonsterHorn/MachineLearning/blob/main/Google_Colab_%E7%9A%84%E4%BD%BF%E7%94%A8.ipynb\" target=\"_parent\"><img src=\"https://colab.research.google.com/assets/colab-badge.svg\" alt=\"Open In Colab\"/></a>"
      ]
    },
    {
      "cell_type": "markdown",
      "metadata": {
        "id": "nsAlOXH5Gj0-"
      },
      "source": [
        "# Google Colab 的使用\n",
        "\n",
        "## 1. 安装依赖\n",
        "\n",
        "前面加 `!` 可以执行`Linux`指令\n",
        "\n",
        "## 2. 运行环境\n",
        "\n",
        " `代码执行程序 -> 运行时类型 ` , 更改为 GPU ， 运行下面的代码进行测试：\n",
        "\n"
      ]
    },
    {
      "cell_type": "code",
      "metadata": {
        "colab": {
          "base_uri": "https://localhost:8080/"
        },
        "id": "MBI1cfbNMOv-",
        "outputId": "f82067d0-2ed9-43d8-c347-baf591953b15"
      },
      "source": [
        "import torch\n",
        "import numpy as np\n",
        "torch.cuda.is_available()"
      ],
      "execution_count": null,
      "outputs": [
        {
          "output_type": "execute_result",
          "data": {
            "text/plain": [
              "True"
            ]
          },
          "metadata": {
            "tags": []
          },
          "execution_count": 7
        }
      ]
    },
    {
      "cell_type": "code",
      "metadata": {
        "colab": {
          "base_uri": "https://localhost:8080/"
        },
        "id": "z7VHE4mDh-ny",
        "outputId": "e2e7aa24-615c-4f67-847a-769fe3e09452"
      },
      "source": [
        "!pwd"
      ],
      "execution_count": null,
      "outputs": [
        {
          "output_type": "stream",
          "text": [
            "/content\n"
          ],
          "name": "stdout"
        }
      ]
    },
    {
      "cell_type": "markdown",
      "metadata": {
        "id": "0Kw4c6iVjGme"
      },
      "source": [
        "# Pytorch 的使用\n",
        "\n",
        "## 1. Tensor 的使用\n",
        "\n",
        "### 1.1 生成 Tensor \n",
        "\n",
        "1. 从 list/NumPy 中生成一个 Tensor\n",
        "\n",
        "2. 全 0 的 Tensor\n",
        "3. 全 1 的 Tensor"
      ]
    },
    {
      "cell_type": "code",
      "metadata": {
        "id": "jUIJK8t-j-vo"
      },
      "source": [
        "# 1. 数组 --> Tensor \n",
        "x1 = torch.tensor([[1,-1],[-1,1]])\n",
        "# 2. NumPy --> Tensor \n",
        "x2 = torch.from_numpy(np.array([[1,-1],[-1,1]]))\n",
        "# 3. 全 0 Tensor \n",
        "x3 = torch.zeros([2,2])\n",
        "# 4. 全 1 Tensor \n",
        "x4 = torch.ones([1,2,5])\n",
        "\n",
        "print(x1)\n",
        "print(x2)\n",
        "print(x3)\n",
        "print(x4)"
      ],
      "execution_count": null,
      "outputs": []
    },
    {
      "cell_type": "markdown",
      "metadata": {
        "id": "C4QVo1vImS6W"
      },
      "source": [
        "### 1.2  Tensor 的操作\n",
        "1. Squeeze  去掉一维\n",
        "2. Unsqueeze 展开维度\n",
        "3. Transpose 矩阵转置\n",
        "4. Cat    Tensor的拼接 \n",
        "5. Pow    次方\n",
        "6. Sum    加总\n",
        "7. Mean    均值"
      ]
    },
    {
      "cell_type": "code",
      "metadata": {
        "id": "UdXaGS8HnL92"
      },
      "source": [
        "x5 = torch.zeros([1,2,3]) # 创建一个 三维 的 Tensor\n",
        "x5 = x5.squeeze(0)     # 1. 删除 0 维\n",
        "x5 = x5.unsqueeze(1)    # 2. 添加 1 维\n",
        "x5 = x5.transpose(0,1)   # 3. 交换两个维度\n",
        "\n",
        "\n",
        "x6 = torch.zeros([2,1,3]) # 创建一个 三维 的 Tensor\n",
        "x7 = torch.zeros([2,2,3]) # 创建一个 三维 的 Tensor\n",
        "x8 = torch.zeros([2,3,3]) # 创建一个 三维 的 Tensor\n",
        "x9 = torch.cat([x6,x7,x8],dim=1) # 4. 按照 1 维 进行拼接\n",
        "x9.shape\n"
      ],
      "execution_count": null,
      "outputs": []
    },
    {
      "cell_type": "markdown",
      "metadata": {
        "id": "bHGtm2sUqm5C"
      },
      "source": [
        "### 1.3 "
      ]
    }
  ]
}