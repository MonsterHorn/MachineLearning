{
  "nbformat": 4,
  "nbformat_minor": 0,
  "metadata": {
    "colab": {
      "name": "Google Colab 的使用.ipynb",
      "provenance": [],
      "collapsed_sections": [
        "C4QVo1vImS6W",
        "bHGtm2sUqm5C"
      ],
      "authorship_tag": "ABX9TyMexixK3J3e+JgMlIoiuLe6",
      "include_colab_link": true
    },
    "kernelspec": {
      "name": "python3",
      "display_name": "Python 3"
    },
    "language_info": {
      "name": "python"
    },
    "accelerator": "GPU"
  },
  "cells": [
    {
      "cell_type": "markdown",
      "metadata": {
        "id": "view-in-github",
        "colab_type": "text"
      },
      "source": [
        "<a href=\"https://colab.research.google.com/github/MonsterHorn/MachineLearning/blob/main/Google_Colab_%E7%9A%84%E4%BD%BF%E7%94%A8.ipynb\" target=\"_parent\"><img src=\"https://colab.research.google.com/assets/colab-badge.svg\" alt=\"Open In Colab\"/></a>"
      ]
    },
    {
      "cell_type": "markdown",
      "metadata": {
        "id": "nsAlOXH5Gj0-"
      },
      "source": [
        "# Google Colab 的使用\n",
        "\n",
        "## 1. 安装依赖\n",
        "\n",
        "前面加 `!` 可以执行`Linux`指令\n",
        "\n",
        "\n"
      ]
    },
    {
      "cell_type": "code",
      "metadata": {
        "id": "G_Z3Nwe1C9wt"
      },
      "source": [
        "!pwd"
      ],
      "execution_count": null,
      "outputs": []
    },
    {
      "cell_type": "markdown",
      "metadata": {
        "id": "xw4Lz6fADCyT"
      },
      "source": [
        "\n",
        "## 2. 运行环境\n",
        "\n",
        " `代码执行程序 -> 运行时类型 ` , 更改为 GPU ， 运行下面的代码进行测试："
      ]
    },
    {
      "cell_type": "code",
      "metadata": {
        "colab": {
          "base_uri": "https://localhost:8080/"
        },
        "id": "MBI1cfbNMOv-",
        "outputId": "ff5830d8-f2f4-4c31-fc27-35e9d2b674be"
      },
      "source": [
        "import torch\n",
        "import numpy as np\n",
        "torch.cuda.is_available()"
      ],
      "execution_count": 4,
      "outputs": [
        {
          "output_type": "execute_result",
          "data": {
            "text/plain": [
              "True"
            ]
          },
          "metadata": {
            "tags": []
          },
          "execution_count": 4
        }
      ]
    },
    {
      "cell_type": "markdown",
      "metadata": {
        "id": "0Kw4c6iVjGme"
      },
      "source": [
        "# Pytorch 的使用\n",
        "\n",
        "## 1. Tensor 的使用\n",
        "\n",
        "### 1.1 生成 Tensor \n",
        "\n",
        "1. 从 list/NumPy 中生成一个 Tensor\n",
        "\n",
        "2. 全 0 的 Tensor\n",
        "3. 全 1 的 Tensor"
      ]
    },
    {
      "cell_type": "code",
      "metadata": {
        "id": "jUIJK8t-j-vo",
        "colab": {
          "base_uri": "https://localhost:8080/"
        },
        "outputId": "0dd1ba9c-5940-4a91-f88c-6b393b11180e"
      },
      "source": [
        "# 1. 数组 --> Tensor \n",
        "x1 = torch.tensor([[1,-1],[-1,1]])\n",
        "# 2. NumPy --> Tensor \n",
        "x2 = torch.from_numpy(np.array([[1,-1],[-1,1]]))\n",
        "# 3. 全 0 Tensor \n",
        "x3 = torch.zeros([2,2])\n",
        "# 4. 全 1 Tensor \n",
        "x4 = torch.ones([1,2,5])\n",
        "\n",
        "print(x1)\n",
        "print(x2)\n",
        "print(x3)\n",
        "print(x4)"
      ],
      "execution_count": 5,
      "outputs": [
        {
          "output_type": "stream",
          "text": [
            "tensor([[ 1, -1],\n",
            "        [-1,  1]])\n",
            "tensor([[ 1, -1],\n",
            "        [-1,  1]])\n",
            "tensor([[0., 0.],\n",
            "        [0., 0.]])\n",
            "tensor([[[1., 1., 1., 1., 1.],\n",
            "         [1., 1., 1., 1., 1.]]])\n"
          ],
          "name": "stdout"
        }
      ]
    },
    {
      "cell_type": "markdown",
      "metadata": {
        "id": "C4QVo1vImS6W"
      },
      "source": [
        "### 1.2  Tensor 的操作\n",
        "1. Squeeze  去掉一维\n",
        "2. Unsqueeze 展开维度\n",
        "3. Transpose 矩阵转置\n",
        "4. Cat    Tensor的拼接 \n",
        "5. Pow    次方\n",
        "6. Sum    加总\n",
        "7. Mean    均值"
      ]
    },
    {
      "cell_type": "code",
      "metadata": {
        "id": "UdXaGS8HnL92"
      },
      "source": [
        "x5 = torch.zeros([1,2,3]) # 创建一个 三维 的 Tensor\n",
        "x5 = x5.squeeze(0)     # 1. 删除 0 维\n",
        "x5 = x5.unsqueeze(1)    # 2. 添加 1 维\n",
        "x5 = x5.transpose(0,1)   # 3. 交换两个维度\n",
        "\n",
        "\n",
        "x6 = torch.zeros([2,1,3]) # 创建一个 三维 的 Tensor\n",
        "x7 = torch.zeros([2,2,3]) # 创建一个 三维 的 Tensor\n",
        "x8 = torch.zeros([2,3,3]) # 创建一个 三维 的 Tensor\n",
        "x9 = torch.cat([x6,x7,x8],dim=1) # 4. 按照 1 维 进行拼接\n",
        "x9.shape\n"
      ],
      "execution_count": null,
      "outputs": []
    },
    {
      "cell_type": "markdown",
      "metadata": {
        "id": "bHGtm2sUqm5C"
      },
      "source": [
        "### 1.3 计算梯度\n",
        "\n",
        "使用`backward`函数计算梯度。 y.backward() \n"
      ]
    },
    {
      "cell_type": "code",
      "metadata": {
        "colab": {
          "base_uri": "https://localhost:8080/"
        },
        "id": "Gc8JPUTysxVl",
        "outputId": "446ddb39-6660-47e4-a3f6-1ad93dfca6b2"
      },
      "source": [
        "x10 = torch.tensor([[1.,0.],[-1.,1.]],requires_grad=True)\n",
        "y = x10.pow(2).sum()\n",
        "y.backward()    # 反向计算梯度\n",
        "x10.grad      # 查看梯度值"
      ],
      "execution_count": 3,
      "outputs": [
        {
          "output_type": "execute_result",
          "data": {
            "text/plain": [
              "tensor([[ 2.,  0.],\n",
              "        [-2.,  2.]])"
            ]
          },
          "metadata": {
            "tags": []
          },
          "execution_count": 3
        }
      ]
    },
    {
      "cell_type": "markdown",
      "metadata": {
        "id": "RVZoWH01twee"
      },
      "source": [
        "### 1.4 加载数据\n"
      ]
    },
    {
      "cell_type": "code",
      "metadata": {
        "id": "GXbZI1jZt1Dq"
      },
      "source": [
        "from torch.utils.data import Dataset, DataLoader\n",
        "\n",
        "class MyDataset(Dataset):\n",
        "    # 1. 加载数据\n",
        "    def _init_(self,file):\n",
        "        self.data = ...\n",
        "    # 2. 获取数据\n",
        "    def _getitem_(self,index):\n",
        "        return self.data[index]\n",
        "    # 3. 获取数据大小\n",
        "    def _len_(self):\n",
        "        return len(self.data)\n",
        "\n",
        "dataset = MyDataset(file)\n",
        "dataloader = DataLoader(dataset,batch_size,shuffle=True) # shuffle是否洗牌； Training（训练）True; Testing（测试）False"
      ],
      "execution_count": null,
      "outputs": []
    },
    {
      "cell_type": "markdown",
      "metadata": {
        "id": "2cKtweSOvv-o"
      },
      "source": [
        "### 1.5 建立模型\n",
        "\n",
        "线性层（全连接层）\n",
        "w * x + b = y\n",
        "\n",
        "```python\n",
        "layer = torch.nn.Liner(in_features,out_features)\n",
        "layer.weight.shape # 权重的形状\n",
        "layer.bias.shape  # 偏移的形状\n",
        "\n",
        "```"
      ]
    },
    {
      "cell_type": "code",
      "metadata": {
        "id": "Hgwwi2-Mxxrr"
      },
      "source": [
        "import torch.nn as nn\n",
        "class MyModel(nn.Moduel):\n",
        "    def _init_(self):\n",
        "        super(MyModel,self)._init_()\n",
        "        self.net = nn.Sequential(\n",
        "            nn.Linear(10,32),\n",
        "            nn.Sigmoid(),\n",
        "            nn.Linear(32,1)\n",
        "        )\n",
        "        \n",
        "    def forward(self,x):\n",
        "        return self.net(x)"
      ],
      "execution_count": null,
      "outputs": []
    },
    {
      "cell_type": "markdown",
      "metadata": {
        "id": "fkmcAyvxw7bR"
      },
      "source": [
        "### 1.6 损失函数\n",
        "\n",
        "- 方差均值损失（Mean Squared Error）[线性回归]\n",
        "\n",
        "```python\n",
        "nn.MSELoss()\n",
        "```\n",
        "\n",
        "- 交叉熵损失（Cross Entropy）[分类]\n",
        "\n",
        "```python\n",
        "nn.CrossEntropyLoss()\n",
        "```\n"
      ]
    },
    {
      "cell_type": "markdown",
      "metadata": {
        "id": "trWiu2ijy912"
      },
      "source": [
        "## 1.7 优化器\n",
        "\n",
        "```python\n",
        "torch.optim.SGD(params,lr,momentum=0)\n",
        "```"
      ]
    },
    {
      "cell_type": "markdown",
      "metadata": {
        "id": "wjTcgclF--8_"
      },
      "source": [
        "### 1.8 参数保存与加载\n",
        "```python\n",
        "# 保存\n",
        "torch.save(model.state_dict(),path)\n",
        "\n",
        "# 加载\n",
        "ckpt=torch.load(path)\n",
        "model.state_dict(ckpt)\n",
        "```"
      ]
    },
    {
      "cell_type": "markdown",
      "metadata": {
        "id": "BQ_yRBnyzVm_"
      },
      "source": [
        "### 1.8 总结\n",
        "\n"
      ]
    },
    {
      "cell_type": "code",
      "metadata": {
        "id": "DjZdlAX2zdI-"
      },
      "source": [
        "dataset = MyDataset(file) # 加载数据\n",
        "tr_set = DataLoader(dataset,16,shuffle=True) # 构建训练集 shuffle是否洗牌； Training（训练）True; Testing（测试）False\n",
        "model = MyModel().to(device) # 创建模型\n",
        "criterion = nn.MSELoss() # 定义损失计算方法\n",
        "optimizer = torch.optim.SGD(model.parameters(),0.1,momentum=0) # 参数优化\n",
        "\n",
        "for epoch in range(n_epochs):\n",
        "    model.train() # 训练集\n",
        "    for x,y in tr_set:\n",
        "        optimizer.zero_grad() # 清空参数\n",
        "        x,y = x.to(device),y.to(device)\n",
        "        pred = model(x) \n",
        "        loss = criterion(pred,y)\n",
        "        loss.backward()\n",
        "        optimizer.step()\n",
        "\n",
        "    model.eval() # 验证集\n",
        "    toatal_loss = 0\n",
        "    for x,y in dv_set:\n",
        "        x,y = x.to(device),y.to(device)\n",
        "        with torch.no_grad():\n",
        "            pred = model(x)\n",
        "            loss = criterion(pred,y)\n",
        "        total_loss += loss.cpu().item * len(x)\n",
        "        avg_loss = total_loss / len(dev_set.dataset)\n",
        "\n",
        "    model.eval() # 测试集\n",
        "    preds = []\n",
        "    for x in tt_set:\n",
        "        x  = x.to(device)\n",
        "        with torch.no_grad():\n",
        "            pred = model(x)\n",
        "            preds.append(pred.cpu())\n"
      ],
      "execution_count": null,
      "outputs": []
    }
  ]
}